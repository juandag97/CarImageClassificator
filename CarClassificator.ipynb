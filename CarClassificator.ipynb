{
  "nbformat": 4,
  "nbformat_minor": 0,
  "metadata": {
    "colab": {
      "name": "CarClassificator.ipynb",
      "provenance": [],
      "collapsed_sections": [],
      "authorship_tag": "ABX9TyOoKk51WH3wmKWRncWJhgMj",
      "include_colab_link": true
    },
    "kernelspec": {
      "name": "python3",
      "display_name": "Python 3"
    },
    "language_info": {
      "name": "python"
    }
  },
  "cells": [
    {
      "cell_type": "markdown",
      "metadata": {
        "id": "view-in-github",
        "colab_type": "text"
      },
      "source": [
        "<a href=\"https://colab.research.google.com/github/juandag97/CarImageClassificator/blob/master/CarClassificator.ipynb\" target=\"_parent\"><img src=\"https://colab.research.google.com/assets/colab-badge.svg\" alt=\"Open In Colab\"/></a>"
      ]
    },
    {
      "cell_type": "markdown",
      "metadata": {
        "id": "pfpv-X1OQWz0"
      },
      "source": [
        "# Car image classificator based on Stanford Cars Dataset"
      ]
    },
    {
      "cell_type": "markdown",
      "metadata": {
        "id": "jVvdLY-rQjhT"
      },
      "source": [
        "Author: @juandag97\n",
        "Date: December 3th 2021"
      ]
    },
    {
      "cell_type": "markdown",
      "metadata": {
        "id": "rlMypXeXRQjj"
      },
      "source": [
        "Relevant urls: https://towardsdatascience.com/classifying-car-images-using-features-extracted-from-pre-trained-neural-networks-39692e445a14"
      ]
    },
    {
      "cell_type": "code",
      "metadata": {
        "colab": {
          "base_uri": "https://localhost:8080/"
        },
        "id": "Zz3Mjf-WQnmM",
        "outputId": "992afef6-fbc8-4899-a547-f94beeea5cb4"
      },
      "source": [
        "!wget --no-check-certificate http://ai.stanford.edu/~jkrause/car196/cars_train.tgz \\\n",
        "      -O /tmp/cars-dataset.tgz "
      ],
      "execution_count": null,
      "outputs": [
        {
          "output_type": "stream",
          "name": "stdout",
          "text": [
            "--2021-12-03 21:48:06--  http://ai.stanford.edu/~jkrause/car196/cars_train.tgz\n",
            "Resolving ai.stanford.edu (ai.stanford.edu)... 171.64.68.10\n",
            "Connecting to ai.stanford.edu (ai.stanford.edu)|171.64.68.10|:80... connected.\n",
            "HTTP request sent, awaiting response... 200 OK\n",
            "Length: 979269282 (934M) [application/x-gzip]\n",
            "Saving to: ‘/tmp/cars-dataset.tgz’\n",
            "\n",
            "/tmp/cars-dataset.t 100%[===================>] 933.90M  13.1MB/s    in 75s     \n",
            "\n",
            "2021-12-03 21:49:21 (12.4 MB/s) - ‘/tmp/cars-dataset.tgz’ saved [979269282/979269282]\n",
            "\n"
          ]
        }
      ]
    },
    {
      "cell_type": "code",
      "metadata": {
        "colab": {
          "base_uri": "https://localhost:8080/"
        },
        "id": "nVbWVMBeQ6v8",
        "outputId": "d968cd29-ed1a-4f68-9777-49166680bebc"
      },
      "source": [
        "!wget --no-check-certificate http://ai.stanford.edu/~jkrause/car196/cars_test.tgz \\\n",
        "      -O /tmp/cars-test-dataset.tgz "
      ],
      "execution_count": null,
      "outputs": [
        {
          "output_type": "stream",
          "name": "stdout",
          "text": [
            "--2021-12-03 21:49:27--  http://ai.stanford.edu/~jkrause/car196/cars_test.tgz\n",
            "Resolving ai.stanford.edu (ai.stanford.edu)... 171.64.68.10\n",
            "Connecting to ai.stanford.edu (ai.stanford.edu)|171.64.68.10|:80... connected.\n",
            "HTTP request sent, awaiting response... 200 OK\n",
            "Length: 977350468 (932M) [application/x-gzip]\n",
            "Saving to: ‘/tmp/cars-test-dataset.tgz’\n",
            "\n",
            "/tmp/cars-test-data 100%[===================>] 932.07M  9.93MB/s    in 72s     \n",
            "\n",
            "2021-12-03 21:50:39 (13.0 MB/s) - ‘/tmp/cars-test-dataset.tgz’ saved [977350468/977350468]\n",
            "\n"
          ]
        }
      ]
    },
    {
      "cell_type": "code",
      "metadata": {
        "id": "c5GXbPpTROnE"
      },
      "source": [
        "import os , sys, tarfile \n",
        "\n",
        "def extract_tar(filename, path_storage):\n",
        "  if filename.endswith(\"tgz\") or filename.endswith(\"tar.gz\"):\n",
        "    tar = tarfile.open(filename, \"r:gz\")\n",
        "    tar.extractall(path_storage)\n",
        "    tar.close()\n",
        "  elif filename.endswith(\"tar\"):\n",
        "    tar = tarfile.open(filename, \"r:\")\n",
        "    tar.extractall(path_storage)\n",
        "    tar.close()"
      ],
      "execution_count": null,
      "outputs": []
    },
    {
      "cell_type": "code",
      "metadata": {
        "id": "N5NYltg_SV1L"
      },
      "source": [
        "train_path, test_path = \"/tmp/cars-dataset.tgz\", \"/tmp/cars-test-dataset.tgz\"\n",
        "extract_tar(train_path, \"/tmp/cars-train\")\n",
        "extract_tar(test_path, \"/tmp/cars-test\")"
      ],
      "execution_count": null,
      "outputs": []
    },
    {
      "cell_type": "code",
      "metadata": {
        "id": "0x0MhcwZSl9s"
      },
      "source": [
        "import numpy as np \n",
        "%matplotlib inline \n",
        "import matplotlib.pyplot as plt \n",
        "import matplotlib.image as mpimg \n",
        "import string \n",
        "import tensorflow as tf \n",
        "from tensorflow.keras.preprocessing.image import ImageDataGenerator"
      ],
      "execution_count": null,
      "outputs": []
    },
    {
      "cell_type": "code",
      "metadata": {
        "id": "_3ayZZDHUhWr"
      },
      "source": [
        "train_dir = \"/tmp/cars-train/cars_train\"\n",
        "test_dir = \"/tmp/cars-test/cars_test\""
      ],
      "execution_count": null,
      "outputs": []
    },
    {
      "cell_type": "code",
      "metadata": {
        "id": "uITq0pTxUrJr"
      },
      "source": [
        "train_datagen = ImageDataGenerator(rescale=1/255)\n",
        "test_datagen = ImageDataGenerator(rescale=1/255, validation_split=0.2)"
      ],
      "execution_count": null,
      "outputs": []
    },
    {
      "cell_type": "code",
      "metadata": {
        "colab": {
          "base_uri": "https://localhost:8080/"
        },
        "id": "8vBS05jSUyz8",
        "outputId": "91c59801-02d0-4cc3-ded9-e4c8f974bd17"
      },
      "source": [
        "# train_generator = train_datagen.flow_from_directory(\n",
        "#     train_dir,\n",
        "#     target_size = (28,28),\n",
        "#     batch_size = 128,\n",
        "#     class_mode = \"categorical\",\n",
        "#     color_mode = \"grayscale\",\n",
        "#     subset = \"training\"\n",
        "# )\n",
        "\n",
        "# validation_generator = test_datagen.flow_from_directory(\n",
        "#     test_dir,\n",
        "#     target_size = (28,28),\n",
        "#     batch_size = 128,\n",
        "#     class_mode = \"categorical\",\n",
        "#     color_mode = \"grayscale\",\n",
        "#     subset = \"validation\"\n",
        "# )\n",
        "\n",
        "# test_generator = test_datagen.flow_from_directory(\n",
        "#     test_dir,\n",
        "#     target_size = (28,28),\n",
        "#     batch_size = 128,\n",
        "#     class_mode = \"categorical\",\n",
        "#     color_mode = \"grayscale\",\n",
        "# )"
      ],
      "execution_count": null,
      "outputs": [
        {
          "output_type": "stream",
          "name": "stdout",
          "text": [
            "Found 0 images belonging to 0 classes.\n",
            "Found 0 images belonging to 0 classes.\n",
            "Found 0 images belonging to 0 classes.\n"
          ]
        }
      ]
    },
    {
      "cell_type": "code",
      "metadata": {
        "id": "KB-IrtPgU7hE"
      },
      "source": [
        ""
      ],
      "execution_count": null,
      "outputs": []
    }
  ]
}